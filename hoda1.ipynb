{
 "cells": [
  {
   "cell_type": "code",
   "execution_count": 1,
   "id": "1892f960",
   "metadata": {},
   "outputs": [
    {
     "name": "stdout",
     "output_type": "stream",
     "text": [
      "Output1: 0.646610431859098\n",
      "Output2: 0.6294812198908473\n"
     ]
    }
   ],
   "source": [
    "def tanh(x):\n",
    "    return (2 / (1 + (2.71828 ** (-2 * x)))) - 1\n",
    "\n",
    "def random_weight(seed):\n",
    "    seed = (seed * 32719 + 3) % 32749  \n",
    "    return (seed % 1000) / 1000 - 0.5\n",
    "\n",
    "def forward_propagation(i1, i2):\n",
    "    inputs = [i1, i2]\n",
    "    \n",
    "    weights = {\n",
    "        'w1': random_weight(1), 'w2': random_weight(2), \n",
    "        'w3': random_weight(3), 'w4': random_weight(4),\n",
    "        'w5': random_weight(5), 'w6': random_weight(6),\n",
    "        'w7': random_weight(7), 'w8': random_weight(8)\n",
    "    }\n",
    "    \n",
    "    biases = {'b1': 0.5, 'b2': 0.7}\n",
    "\n",
    "    h1_input = (inputs[0] * weights['w1']) + (inputs[1] * weights['w3']) + biases['b1']\n",
    "    h2_input = (inputs[0] * weights['w2']) + (inputs[1] * weights['w4']) + biases['b1']\n",
    "    \n",
    "    h1_output = tanh(h1_input)\n",
    "    h2_output = tanh(h2_input)\n",
    "    \n",
    "    o1_input = (h1_output * weights['w5']) + (h2_output * weights['w7']) + biases['b2']\n",
    "    o2_input = (h1_output * weights['w6']) + (h2_output * weights['w8']) + biases['b2']\n",
    "    \n",
    "    o1_output = tanh(o1_input)\n",
    "    o2_output = tanh(o2_input)\n",
    "    \n",
    "    return o1_output, o2_output\n",
    "\n",
    "output = forward_propagation(0.05, 0.10)\n",
    "print(\"Output1:\", output[0])\n",
    "print(\"Output2:\", output[1])"
   ]
  },
  {
   "cell_type": "code",
   "execution_count": null,
   "id": "6a0d2492",
   "metadata": {},
   "outputs": [],
   "source": []
  }
 ],
 "metadata": {
  "kernelspec": {
   "display_name": "Python 3 (ipykernel)",
   "language": "python",
   "name": "python3"
  },
  "language_info": {
   "codemirror_mode": {
    "name": "ipython",
    "version": 3
   },
   "file_extension": ".py",
   "mimetype": "text/x-python",
   "name": "python",
   "nbconvert_exporter": "python",
   "pygments_lexer": "ipython3",
   "version": "3.10.9"
  }
 },
 "nbformat": 4,
 "nbformat_minor": 5
}
